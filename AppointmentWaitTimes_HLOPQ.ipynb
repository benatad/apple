{
 "cells": [
  {
   "cell_type": "code",
   "execution_count": 1,
   "id": "b9c39b8a-9c21-42d8-98e8-fa8bc7c8a112",
   "metadata": {
    "execution": {
     "iopub.execute_input": "2024-08-10T15:17:43.765535Z",
     "iopub.status.busy": "2024-08-10T15:17:43.765535Z",
     "iopub.status.idle": "2024-08-10T15:17:50.399980Z",
     "shell.execute_reply": "2024-08-10T15:17:50.399461Z"
    }
   },
   "outputs": [
    {
     "name": "stdout",
     "output_type": "stream",
     "text": [
      "Data has been saved to C:\\Users\\singh\\dataneb\\files\\AppointmentWaitTimeIndia_HLOPQ.json\n"
     ]
    }
   ],
   "source": [
    "import requests\n",
    "import json\n",
    "import os\n",
    "from datetime import datetime\n",
    "\n",
    "# Mapping of cid to city names\n",
    "cid_to_city = {\n",
    "    \"P48\": \"Chennai (Madras)\",\n",
    "    \"P147\": \"New Delhi\",\n",
    "    \"P139\": \"Mumbai (Bombay)\",\n",
    "    \"P100\": \"Kolkata\",\n",
    "    \"P85\": \"Hyderabad\"\n",
    "}\n",
    "\n",
    "# Define the column index to print (0-based index)\n",
    "column_index_to_print = 2  # 2 is column number for \"Interview Required Petition-Based Temporary Workers (H, L, O, P, Q)\"\n",
    "\n",
    "# Define the base URL and the possible values for the cid parameter\n",
    "base_url = \"https://travel.state.gov/content/travel/resources/database/database.getVisaWaitTimes.html\"\n",
    "cid_values = [\"P48\", \"P147\", \"P139\", \"P100\", \"P85\"]\n",
    "aid_value = \"VisaWaitTimesHomePage\"\n",
    "\n",
    "# Function to get the visa wait times for a given cid and return a specified column\n",
    "def get_visa_wait_times_column(cid, column_index):\n",
    "    params = {\n",
    "        \"cid\": cid,\n",
    "        \"aid\": aid_value\n",
    "    }\n",
    "    response = requests.get(base_url, params=params)\n",
    "    \n",
    "    if response.status_code == 200:\n",
    "        response_text = response.text\n",
    "        columns = response_text.split('|')\n",
    "        \n",
    "        # Return the specified column if it exists, otherwise return \"No data\"\n",
    "        if column_index < len(columns):\n",
    "            return columns[column_index].strip() if columns[column_index].strip() != '' else \"Current\"\n",
    "        else:\n",
    "            return \"No data\"\n",
    "    else:\n",
    "        return f\"Failed to fetch data for cid={cid}, status code: {response.status_code}\"\n",
    "\n",
    "# Get the current time for the last_refreshed field\n",
    "last_refreshed = datetime.now().strftime(\"%b %d, %Y %I:%M %p\")\n",
    "\n",
    "# Prepare data for JSON\n",
    "data = {\n",
    "    \"last_refreshed\": last_refreshed,\n",
    "    \"index 0\": {\n",
    "        \"Nonimmigrant Visa Type\": \"Interview Required Petition-Based Temporary Workers (H, L, O, P, Q)\",\n",
    "        \"records\": []\n",
    "    }\n",
    "}\n",
    "\n",
    "# Loop through each cid value, call the URL, and collect the specified column with city name\n",
    "for cid in cid_values:\n",
    "    column_value = get_visa_wait_times_column(cid, column_index_to_print)\n",
    "    city_name = cid_to_city.get(cid, \"Unknown City\")\n",
    "    data[\"index 0\"][\"records\"] += [{city_name: column_value}]\n",
    "\n",
    "# Define the file path\n",
    "file_path = r\"C:\\Users\\singh\\dataneb\\files\\AppointmentWaitTimeIndia_HLOPQ.json\"\n",
    "\n",
    "# Ensure the directory exists\n",
    "os.makedirs(os.path.dirname(file_path), exist_ok=True)\n",
    "\n",
    "# Save data to JSON file\n",
    "with open(file_path, 'w') as json_file:\n",
    "    json.dump(data, json_file, indent=4)\n",
    "\n",
    "print(f\"Data has been saved to {file_path}\")\n"
   ]
  },
  {
   "cell_type": "code",
   "execution_count": null,
   "id": "f9086125-347a-43c8-b209-12638f9ec2fb",
   "metadata": {},
   "outputs": [],
   "source": []
  }
 ],
 "metadata": {
  "kernelspec": {
   "display_name": "Python 3 (ipykernel)",
   "language": "python",
   "name": "python3"
  },
  "language_info": {
   "codemirror_mode": {
    "name": "ipython",
    "version": 3
   },
   "file_extension": ".py",
   "mimetype": "text/x-python",
   "name": "python",
   "nbconvert_exporter": "python",
   "pygments_lexer": "ipython3",
   "version": "3.11.7"
  }
 },
 "nbformat": 4,
 "nbformat_minor": 5
}
